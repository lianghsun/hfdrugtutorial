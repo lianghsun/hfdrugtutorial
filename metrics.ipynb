{
 "cells": [
  {
   "cell_type": "code",
   "execution_count": 1,
   "id": "b89d24bc-b042-426a-8896-4da7e5eb1d67",
   "metadata": {},
   "outputs": [
    {
     "name": "stderr",
     "output_type": "stream",
     "text": [
      "/home/owen/miniconda3/envs/moses/lib/python3.7/site-packages/tqdm/auto.py:22: TqdmWarning: IProgress not found. Please update jupyter and ipywidgets. See https://ipywidgets.readthedocs.io/en/stable/user_install.html\n",
      "  from .autonotebook import tqdm as notebook_tqdm\n"
     ]
    }
   ],
   "source": [
    "import pandas as pd\n",
    "import moses\n",
    "from tqdm.auto import tqdm\n",
    "from IPython.display import clear_output\n",
    "from rdkit import Chem\n",
    "from rdkit.Chem.Scaffolds import MurckoScaffold"
   ]
  },
  {
   "cell_type": "code",
   "execution_count": 2,
   "id": "a11e681d-4a6a-4b59-aed1-03a8733d3be2",
   "metadata": {},
   "outputs": [],
   "source": [
    "def get_scaffold(data):\n",
    "    return [\n",
    "        Chem.MolToSmiles(MurckoScaffold.GetScaffoldForMol(Chem.MolFromSmiles(smi)))\n",
    "        for smi in data\n",
    "    ]"
   ]
  },
  {
   "cell_type": "code",
   "execution_count": 4,
   "id": "9db2ebd6-fa8f-4195-8cae-7ed6a3839d39",
   "metadata": {},
   "outputs": [
    {
     "name": "stdout",
     "output_type": "stream",
     "text": [
      "Training set: 840 counts\n",
      "Test set: 10 counts\n",
      "Test Scaffold: 10 counts\n"
     ]
    }
   ],
   "source": [
    "gen = pd.read_csv('./generation/gptneo_irak4_spe_20221103-1811-checkpoint-500/10_000_gen_sample.csv')\n",
    "train = pd.read_csv('../GPT2/dataset/IRAK4/irak4_train.txt', header=None).iloc[:,0].to_list()\n",
    "test = pd.read_csv('../GPT2/dataset/IRAK4/irak4_test.txt', header=None).iloc[:,0].to_list()\n",
    "test_scaffolds = get_scaffold(test)\n",
    "\n",
    "print(f\"Training set: {len(train):,} counts\")\n",
    "print(f\"Test set: {len(test):,} counts\")\n",
    "print(f\"Test Scaffold: {len(test_scaffolds):,} counts\")"
   ]
  },
  {
   "cell_type": "code",
   "execution_count": 21,
   "id": "2c76cdde-d0d3-4bc7-95f9-0c8ad5cda996",
   "metadata": {
    "tags": [
     "metrics"
    ]
   },
   "outputs": [
    {
     "name": "stderr",
     "output_type": "stream",
     "text": [
      "/home/owen/miniconda3/envs/moses/lib/python3.7/site-packages/torch/utils/data/dataloader.py:490: UserWarning: This DataLoader will create 64 worker processes in total. Our suggested max number of worker in current system is 56, which is smaller than what this DataLoader is going to create. Please be aware that excessive worker creation might get DataLoader running slow or even freeze, lower the worker number to avoid potential slowness/freeze if necessary.\n",
      "  cpuset_checked))\n",
      "/home/owen/miniconda3/envs/moses/lib/python3.7/site-packages/moses/metrics/metrics.py:217: UserWarning: Can't compute unique@10000.gen contains only 9977 molecules\n",
      "  \"gen contains only {} molecules\".format(len(gen))\n"
     ]
    },
    {
     "name": "stdout",
     "output_type": "stream",
     "text": [
      "CPU times: user 32min 10s, sys: 4min 5s, total: 36min 16s\n",
      "Wall time: 2min 38s\n"
     ]
    }
   ],
   "source": [
    "%%time\n",
    "metrics = []\n",
    "for i in range(gen.shape[1]):\n",
    "    data = gen.iloc[:, i].to_list()\n",
    "    metrics.append(moses.get_all_metrics(\n",
    "        data,\n",
    "        n_jobs=56, device='cpu', batch_size=512,\n",
    "        test=test, test_scaffolds=test_scaffolds,\n",
    "        train=train\n",
    "    ))"
   ]
  },
  {
   "cell_type": "code",
   "execution_count": 24,
   "id": "e68ac733-04f0-4662-ab68-b94268a7b7ac",
   "metadata": {},
   "outputs": [
    {
     "data": {
      "text/html": [
       "<div>\n",
       "<style scoped>\n",
       "    .dataframe tbody tr th:only-of-type {\n",
       "        vertical-align: middle;\n",
       "    }\n",
       "\n",
       "    .dataframe tbody tr th {\n",
       "        vertical-align: top;\n",
       "    }\n",
       "\n",
       "    .dataframe thead th {\n",
       "        text-align: right;\n",
       "    }\n",
       "</style>\n",
       "<table border=\"1\" class=\"dataframe\">\n",
       "  <thead>\n",
       "    <tr style=\"text-align: right;\">\n",
       "      <th></th>\n",
       "      <th>valid</th>\n",
       "      <th>unique@1000</th>\n",
       "      <th>unique@10000</th>\n",
       "      <th>FCD/Test</th>\n",
       "      <th>SNN/Test</th>\n",
       "      <th>Frag/Test</th>\n",
       "      <th>Scaf/Test</th>\n",
       "      <th>FCD/TestSF</th>\n",
       "      <th>SNN/TestSF</th>\n",
       "      <th>Frag/TestSF</th>\n",
       "      <th>Scaf/TestSF</th>\n",
       "      <th>IntDiv</th>\n",
       "      <th>IntDiv2</th>\n",
       "      <th>Filters</th>\n",
       "      <th>logP</th>\n",
       "      <th>SA</th>\n",
       "      <th>QED</th>\n",
       "      <th>weight</th>\n",
       "      <th>Novelty</th>\n",
       "    </tr>\n",
       "  </thead>\n",
       "  <tbody>\n",
       "    <tr>\n",
       "      <th>0</th>\n",
       "      <td>0.9914</td>\n",
       "      <td>0.549</td>\n",
       "      <td>0.078071</td>\n",
       "      <td>30.387260</td>\n",
       "      <td>0.316955</td>\n",
       "      <td>0.813776</td>\n",
       "      <td>0.009453</td>\n",
       "      <td>35.639950</td>\n",
       "      <td>0.237472</td>\n",
       "      <td>0.693855</td>\n",
       "      <td>0.009453</td>\n",
       "      <td>0.801940</td>\n",
       "      <td>0.771127</td>\n",
       "      <td>0.945532</td>\n",
       "      <td>0.411628</td>\n",
       "      <td>0.554657</td>\n",
       "      <td>0.081076</td>\n",
       "      <td>55.730159</td>\n",
       "      <td>0.025840</td>\n",
       "    </tr>\n",
       "    <tr>\n",
       "      <th>1</th>\n",
       "      <td>1.0000</td>\n",
       "      <td>0.534</td>\n",
       "      <td>0.071900</td>\n",
       "      <td>30.444780</td>\n",
       "      <td>0.320165</td>\n",
       "      <td>0.815555</td>\n",
       "      <td>0.012953</td>\n",
       "      <td>35.939203</td>\n",
       "      <td>0.238901</td>\n",
       "      <td>0.697045</td>\n",
       "      <td>0.012953</td>\n",
       "      <td>0.801092</td>\n",
       "      <td>0.770334</td>\n",
       "      <td>0.945900</td>\n",
       "      <td>0.421142</td>\n",
       "      <td>0.546691</td>\n",
       "      <td>0.079975</td>\n",
       "      <td>55.566711</td>\n",
       "      <td>0.000000</td>\n",
       "    </tr>\n",
       "    <tr>\n",
       "      <th>2</th>\n",
       "      <td>0.9977</td>\n",
       "      <td>0.148</td>\n",
       "      <td>0.015736</td>\n",
       "      <td>28.607994</td>\n",
       "      <td>0.345782</td>\n",
       "      <td>0.790773</td>\n",
       "      <td>0.018396</td>\n",
       "      <td>33.368910</td>\n",
       "      <td>0.241740</td>\n",
       "      <td>0.670592</td>\n",
       "      <td>0.018396</td>\n",
       "      <td>0.771891</td>\n",
       "      <td>0.717300</td>\n",
       "      <td>0.977649</td>\n",
       "      <td>0.396087</td>\n",
       "      <td>0.529281</td>\n",
       "      <td>0.074187</td>\n",
       "      <td>53.472046</td>\n",
       "      <td>0.057325</td>\n",
       "    </tr>\n",
       "  </tbody>\n",
       "</table>\n",
       "</div>"
      ],
      "text/plain": [
       "    valid  unique@1000  unique@10000   FCD/Test  SNN/Test  Frag/Test  \\\n",
       "0  0.9914        0.549      0.078071  30.387260  0.316955   0.813776   \n",
       "1  1.0000        0.534      0.071900  30.444780  0.320165   0.815555   \n",
       "2  0.9977        0.148      0.015736  28.607994  0.345782   0.790773   \n",
       "\n",
       "   Scaf/Test  FCD/TestSF  SNN/TestSF  Frag/TestSF  Scaf/TestSF    IntDiv  \\\n",
       "0   0.009453   35.639950    0.237472     0.693855     0.009453  0.801940   \n",
       "1   0.012953   35.939203    0.238901     0.697045     0.012953  0.801092   \n",
       "2   0.018396   33.368910    0.241740     0.670592     0.018396  0.771891   \n",
       "\n",
       "    IntDiv2   Filters      logP        SA       QED     weight   Novelty  \n",
       "0  0.771127  0.945532  0.411628  0.554657  0.081076  55.730159  0.025840  \n",
       "1  0.770334  0.945900  0.421142  0.546691  0.079975  55.566711  0.000000  \n",
       "2  0.717300  0.977649  0.396087  0.529281  0.074187  53.472046  0.057325  "
      ]
     },
     "execution_count": 24,
     "metadata": {},
     "output_type": "execute_result"
    }
   ],
   "source": [
    "df = pd.DataFrame(metrics)\n",
    "df.to_csv('./generation/gptneo_irak4_spe_20221103-1811-checkpoint-500/metrics.csv', index=False)\n",
    "df"
   ]
  }
 ],
 "metadata": {
  "kernelspec": {
   "display_name": "Moses",
   "language": "python",
   "name": "moses"
  },
  "language_info": {
   "codemirror_mode": {
    "name": "ipython",
    "version": 3
   },
   "file_extension": ".py",
   "mimetype": "text/x-python",
   "name": "python",
   "nbconvert_exporter": "python",
   "pygments_lexer": "ipython3",
   "version": "3.7.13"
  }
 },
 "nbformat": 4,
 "nbformat_minor": 5
}
